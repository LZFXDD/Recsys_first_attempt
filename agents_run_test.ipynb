{
 "cells": [
  {
   "cell_type": "markdown",
   "source": [],
   "metadata": {
    "collapsed": false
   },
   "id": "13364741fa1bf9fd"
  },
  {
   "cell_type": "code",
   "outputs": [],
   "source": [
    "from prompts import perceive_agent_prompt\n",
    "from fewshots import PERCEIVE_EXAMPLES\n",
    "from agents import PerceiveAgent\n",
    "from dataset_preprocess import dataset\n",
    "\n",
    "agent_1 = PerceiveAgent(agent_prompt=perceive_agent_prompt)"
   ],
   "metadata": {
    "collapsed": false,
    "ExecuteTime": {
     "end_time": "2024-08-09T15:30:39.883078300Z",
     "start_time": "2024-08-09T15:30:37.529515300Z"
    }
   },
   "id": "18a6d6ff453c6209",
   "execution_count": 1
  },
  {
   "cell_type": "code",
   "outputs": [],
   "source": [
    "import openai\n",
    "\n",
    "# openai_api设置\n",
    "openai.api_key = 'sk-fph6emDpXF4gpDqOFe827a075561421d81C4442c5e489d37'\n",
    "openai.api_base = 'https://free.gpt.ge/v1'"
   ],
   "metadata": {
    "collapsed": false,
    "ExecuteTime": {
     "end_time": "2024-08-09T15:30:40.938329200Z",
     "start_time": "2024-08-09T15:30:40.929020900Z"
    }
   },
   "id": "bbfece614157a621",
   "execution_count": 2
  },
  {
   "cell_type": "code",
   "outputs": [
    {
     "name": "stdout",
     "output_type": "stream",
     "text": [
      "The film \"Transformers: Age of Extinction\" was released in 2014. It is an action, adventure, and sci-fi film. The story takes place after an epic battle between the Autobots and Decepticons, which resulted in the city being left in ruins. A mechanic named Cade Yeager and his daughter Tessa discover a dormant Optimus Prime and become embroiled in a government conspiracy involving a secret agency and a mysterious new Transformer threat. As they navigate the dangerous landscape of alliances and betrayals, they must fight to protect both the Autobots and humanity from annihilation.\n"
     ]
    }
   ],
   "source": [
    "print(agent_1.perceive_agent_generate(\"Transformers: Age of Extinction\"))"
   ],
   "metadata": {
    "collapsed": false,
    "ExecuteTime": {
     "end_time": "2024-08-09T16:01:26.057695700Z",
     "start_time": "2024-08-09T16:01:22.025637200Z"
    }
   },
   "id": "37e39aa53132cb02",
   "execution_count": 19
  }
 ],
 "metadata": {
  "kernelspec": {
   "display_name": "Python 3",
   "language": "python",
   "name": "python3"
  },
  "language_info": {
   "codemirror_mode": {
    "name": "ipython",
    "version": 2
   },
   "file_extension": ".py",
   "mimetype": "text/x-python",
   "name": "python",
   "nbconvert_exporter": "python",
   "pygments_lexer": "ipython2",
   "version": "2.7.6"
  }
 },
 "nbformat": 4,
 "nbformat_minor": 5
}
